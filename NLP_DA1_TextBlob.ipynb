{
 "cells": [
  {
   "cell_type": "markdown",
   "metadata": {},
   "source": [
    "<h3 style=\"text-align: center;\"><span style=\"color: #000fff;\">Nagesh Buyre - 19MAI0024</span></h3>\n",
    "<h1 style=\"text-align: center;\">Natural Language Processing</h1>\n",
    "<h1 style=\"text-align: center;\">TextBlob</h1>\n",
    "<h3 style=\"text-align: center;\">Digital Assignment (22_June)</h3>"
   ]
  },
  {
   "cell_type": "markdown",
   "metadata": {},
   "source": [
    "# Install TextBlob"
   ]
  },
  {
   "cell_type": "code",
   "execution_count": 39,
   "metadata": {},
   "outputs": [
    {
     "name": "stdout",
     "output_type": "stream",
     "text": [
      "Requirement already satisfied: textblob in c:\\users\\buyre\\anaconda3\\lib\\site-packages (0.15.3)\n",
      "Requirement already satisfied: nltk>=3.1 in c:\\users\\buyre\\anaconda3\\lib\\site-packages (from textblob) (3.4.5)\n",
      "Requirement already satisfied: six in c:\\users\\buyre\\anaconda3\\lib\\site-packages (from nltk>=3.1->textblob) (1.14.0)\n"
     ]
    }
   ],
   "source": [
    "!pip install textblob"
   ]
  },
  {
   "cell_type": "code",
   "execution_count": 40,
   "metadata": {},
   "outputs": [],
   "source": [
    "from textblob import TextBlob"
   ]
  },
  {
   "cell_type": "markdown",
   "metadata": {},
   "source": [
    "# Part-of-speech Tagging\n",
    "\n",
    "POS-tags can be accessed using the 'tags' property."
   ]
  },
  {
   "cell_type": "code",
   "execution_count": 41,
   "metadata": {},
   "outputs": [],
   "source": [
    "text = '''\n",
    "Bollywood lost yet another actor as Sushant Singh Rajput committed suicide at his residence \n",
    "in Mumbai. While the industry is still reeling with the passing away of Irrfan Khan and Rishi \n",
    "Kapoor, Bollywood has to now deal with yet another loss. Sushant was 34 years old and was much\n",
    "loved for his performances on the small screen as well as in movies. According to ANI, Sushant \n",
    "Singh Rajput committed suicide at his Bandra residence by hanging himself on Sunday, Additional\n",
    "Commissioner of Police Dr Manoj Sharma confirmed. \"Sushant Singh Rajput has committed suicide, \n",
    "Mumbai Police is investigating. Police has not found any note yet,\" said DCP Pranay Ashok, \n",
    "spokesperson Mumbai Police. More details are awaited\n",
    "'''"
   ]
  },
  {
   "cell_type": "code",
   "execution_count": 42,
   "metadata": {},
   "outputs": [
    {
     "data": {
      "text/plain": [
       "[('Bollywood', 'NN'),\n",
       " ('lost', 'VBN'),\n",
       " ('yet', 'RB'),\n",
       " ('another', 'DT'),\n",
       " ('actor', 'NN'),\n",
       " ('as', 'IN'),\n",
       " ('Sushant', 'NNP'),\n",
       " ('Singh', 'NNP'),\n",
       " ('Rajput', 'NNP'),\n",
       " ('committed', 'VBD'),\n",
       " ('suicide', 'NN'),\n",
       " ('at', 'IN'),\n",
       " ('his', 'PRP$'),\n",
       " ('residence', 'NN'),\n",
       " ('in', 'IN'),\n",
       " ('Mumbai', 'NNP'),\n",
       " ('While', 'IN'),\n",
       " ('the', 'DT'),\n",
       " ('industry', 'NN'),\n",
       " ('is', 'VBZ'),\n",
       " ('still', 'RB'),\n",
       " ('reeling', 'VBG'),\n",
       " ('with', 'IN'),\n",
       " ('the', 'DT'),\n",
       " ('passing', 'VBG'),\n",
       " ('away', 'RB'),\n",
       " ('of', 'IN'),\n",
       " ('Irrfan', 'NNP'),\n",
       " ('Khan', 'NNP'),\n",
       " ('and', 'CC'),\n",
       " ('Rishi', 'NNP'),\n",
       " ('Kapoor', 'NNP'),\n",
       " ('Bollywood', 'NNP'),\n",
       " ('has', 'VBZ'),\n",
       " ('to', 'TO'),\n",
       " ('now', 'RB'),\n",
       " ('deal', 'VB'),\n",
       " ('with', 'IN'),\n",
       " ('yet', 'RB'),\n",
       " ('another', 'DT'),\n",
       " ('loss', 'NN'),\n",
       " ('Sushant', 'NNP'),\n",
       " ('was', 'VBD'),\n",
       " ('34', 'CD'),\n",
       " ('years', 'NNS'),\n",
       " ('old', 'JJ'),\n",
       " ('and', 'CC'),\n",
       " ('was', 'VBD'),\n",
       " ('much', 'RB'),\n",
       " ('loved', 'VBN'),\n",
       " ('for', 'IN'),\n",
       " ('his', 'PRP$'),\n",
       " ('performances', 'NNS'),\n",
       " ('on', 'IN'),\n",
       " ('the', 'DT'),\n",
       " ('small', 'JJ'),\n",
       " ('screen', 'NN'),\n",
       " ('as', 'RB'),\n",
       " ('well', 'RB'),\n",
       " ('as', 'IN'),\n",
       " ('in', 'IN'),\n",
       " ('movies', 'NNS'),\n",
       " ('According', 'VBG'),\n",
       " ('to', 'TO'),\n",
       " ('ANI', 'NNP'),\n",
       " ('Sushant', 'NNP'),\n",
       " ('Singh', 'NNP'),\n",
       " ('Rajput', 'NNP'),\n",
       " ('committed', 'VBD'),\n",
       " ('suicide', 'NN'),\n",
       " ('at', 'IN'),\n",
       " ('his', 'PRP$'),\n",
       " ('Bandra', 'NNP'),\n",
       " ('residence', 'NN'),\n",
       " ('by', 'IN'),\n",
       " ('hanging', 'VBG'),\n",
       " ('himself', 'PRP'),\n",
       " ('on', 'IN'),\n",
       " ('Sunday', 'NNP'),\n",
       " ('Additional', 'NNP'),\n",
       " ('Commissioner', 'NNP'),\n",
       " ('of', 'IN'),\n",
       " ('Police', 'NNP'),\n",
       " ('Dr', 'NNP'),\n",
       " ('Manoj', 'NNP'),\n",
       " ('Sharma', 'NNP'),\n",
       " ('confirmed', 'VBD'),\n",
       " ('Sushant', 'JJ'),\n",
       " ('Singh', 'NNP'),\n",
       " ('Rajput', 'NNP'),\n",
       " ('has', 'VBZ'),\n",
       " ('committed', 'VBN'),\n",
       " ('suicide', 'RB'),\n",
       " ('Mumbai', 'NNP'),\n",
       " ('Police', 'NNP'),\n",
       " ('is', 'VBZ'),\n",
       " ('investigating', 'VBG'),\n",
       " ('Police', 'NNP'),\n",
       " ('has', 'VBZ'),\n",
       " ('not', 'RB'),\n",
       " ('found', 'VBN'),\n",
       " ('any', 'DT'),\n",
       " ('note', 'NN'),\n",
       " ('yet', 'RB'),\n",
       " ('said', 'VBD'),\n",
       " ('DCP', 'NNP'),\n",
       " ('Pranay', 'NNP'),\n",
       " ('Ashok', 'NNP'),\n",
       " ('spokesperson', 'NN'),\n",
       " ('Mumbai', 'NNP'),\n",
       " ('Police', 'NNP'),\n",
       " ('More', 'JJR'),\n",
       " ('details', 'NNS'),\n",
       " ('are', 'VBP'),\n",
       " ('awaited', 'VBN')]"
      ]
     },
     "execution_count": 42,
     "metadata": {},
     "output_type": "execute_result"
    }
   ],
   "source": [
    "blob = TextBlob(text)\n",
    "blob.tags          #POS-tagging"
   ]
  },
  {
   "cell_type": "code",
   "execution_count": 43,
   "metadata": {
    "scrolled": true
   },
   "outputs": [
    {
     "data": {
      "text/plain": [
       "WordList(['bollywood', 'sushant singh rajput', 'mumbai', 'irrfan khan', 'rishi kapoor', 'bollywood', 'sushant', 'small screen', 'according', 'ani', 'sushant singh rajput', 'bandra', 'additional', 'dr manoj sharma', 'sushant singh rajput', 'mumbai', 'dcp pranay ashok', 'mumbai'])"
      ]
     },
     "execution_count": 43,
     "metadata": {},
     "output_type": "execute_result"
    }
   ],
   "source": [
    "# Noun Phrase Extraction\n",
    "blob.noun_phrases   "
   ]
  },
  {
   "cell_type": "code",
   "execution_count": 44,
   "metadata": {},
   "outputs": [
    {
     "name": "stdout",
     "output_type": "stream",
     "text": [
      "0.0\n",
      "0.0\n",
      "0.18333333333333332\n",
      "0.4\n",
      "0.0\n",
      "0.0\n",
      "0.5\n"
     ]
    }
   ],
   "source": [
    "#Sentiment polarity for sentences\n",
    "for sentence in blob.sentences:\n",
    "    print(sentence.sentiment.polarity)"
   ]
  },
  {
   "cell_type": "markdown",
   "metadata": {},
   "source": [
    "# Tokenization\n",
    "\n",
    "Here directly tokens are allocated for the individual setences just using blob"
   ]
  },
  {
   "cell_type": "code",
   "execution_count": 45,
   "metadata": {},
   "outputs": [
    {
     "name": "stdout",
     "output_type": "stream",
     "text": [
      "[Sentence(\"\n",
      "Bollywood lost yet another actor as Sushant Singh Rajput committed suicide at his residence \n",
      "in Mumbai.\"), Sentence(\"While the industry is still reeling with the passing away of Irrfan Khan and Rishi \n",
      "Kapoor, Bollywood has to now deal with yet another loss.\"), Sentence(\"Sushant was 34 years old and was much\n",
      "loved for his performances on the small screen as well as in movies.\"), Sentence(\"According to ANI, Sushant \n",
      "Singh Rajput committed suicide at his Bandra residence by hanging himself on Sunday, Additional\n",
      "Commissioner of Police Dr Manoj Sharma confirmed.\"), Sentence(\"\"Sushant Singh Rajput has committed suicide, \n",
      "Mumbai Police is investigating.\"), Sentence(\"Police has not found any note yet,\" said DCP Pranay Ashok, \n",
      "spokesperson Mumbai Police.\"), Sentence(\"More details are awaited\")]\n",
      "\n",
      "\n",
      "Tokenized Words\n",
      " ['Bollywood', 'lost', 'yet', 'another', 'actor', 'as', 'Sushant', 'Singh', 'Rajput', 'committed', 'suicide', 'at', 'his', 'residence', 'in', 'Mumbai', 'While', 'the', 'industry', 'is', 'still', 'reeling', 'with', 'the', 'passing', 'away', 'of', 'Irrfan', 'Khan', 'and', 'Rishi', 'Kapoor', 'Bollywood', 'has', 'to', 'now', 'deal', 'with', 'yet', 'another', 'loss', 'Sushant', 'was', '34', 'years', 'old', 'and', 'was', 'much', 'loved', 'for', 'his', 'performances', 'on', 'the', 'small', 'screen', 'as', 'well', 'as', 'in', 'movies', 'According', 'to', 'ANI', 'Sushant', 'Singh', 'Rajput', 'committed', 'suicide', 'at', 'his', 'Bandra', 'residence', 'by', 'hanging', 'himself', 'on', 'Sunday', 'Additional', 'Commissioner', 'of', 'Police', 'Dr', 'Manoj', 'Sharma', 'confirmed', 'Sushant', 'Singh', 'Rajput', 'has', 'committed', 'suicide', 'Mumbai', 'Police', 'is', 'investigating', 'Police', 'has', 'not', 'found', 'any', 'note', 'yet', 'said', 'DCP', 'Pranay', 'Ashok', 'spokesperson', 'Mumbai', 'Police', 'More', 'details', 'are', 'awaited']\n"
     ]
    }
   ],
   "source": [
    "#Extract sentences\n",
    "print(blob.sentences)\n",
    "\n",
    "tokenised_words = []\n",
    "#printing words of first sentence\n",
    "for sentence in blob.sentences:\n",
    "    for word in sentence.words:\n",
    "        tokenised_words.append(word)\n",
    "\n",
    "\n",
    "print(\"\\n\\nTokenized Words\\n\",tokenised_words)"
   ]
  },
  {
   "cell_type": "markdown",
   "metadata": {},
   "source": [
    "# Word Inflection and Lemmatization\n",
    "\n",
    "Here we have functions like singularize(), pluralize(), lemmatize()"
   ]
  },
  {
   "cell_type": "code",
   "execution_count": 46,
   "metadata": {},
   "outputs": [
    {
     "name": "stdout",
     "output_type": "stream",
     "text": [
      "Sentence:  While the industry is still reeling with the passing away of Irrfan Khan and Rishi \n",
      "Kapoor, Bollywood has to now deal with yet another loss.\n",
      "\n",
      "Word:  industry\n",
      "Singular Word:  industry\n",
      "Plural Word:  industries\n"
     ]
    }
   ],
   "source": [
    "# Inflection, singularize(), pluralize()\n",
    "print(\"Sentence: \",blob.sentences[1])\n",
    "print (\"\\nWord: \",blob.sentences[1].words[2])                            #'industry' is the word we are selecting\n",
    "print (\"Singular Word: \" , blob.sentences[1].words[2].singularize())   \n",
    "print (\"Plural Word: \" , blob.sentences[1].words[2].pluralize())"
   ]
  },
  {
   "cell_type": "code",
   "execution_count": 47,
   "metadata": {},
   "outputs": [
    {
     "name": "stdout",
     "output_type": "stream",
     "text": [
      "['Bollywood', 'lost', 'yet', 'another', 'actor', 'a', 'Sushant', 'Singh', 'Rajput', 'committed', 'suicide', 'at', 'his', 'residence', 'in', 'Mumbai', 'While', 'the', 'industry', 'is', 'still', 'reeling', 'with', 'the', 'passing', 'away', 'of', 'Irrfan', 'Khan', 'and', 'Rishi', 'Kapoor', 'Bollywood', 'ha', 'to', 'now', 'deal', 'with', 'yet', 'another', 'loss', 'Sushant', 'wa', '34', 'year', 'old', 'and', 'wa', 'much', 'loved', 'for', 'his', 'performance', 'on', 'the', 'small', 'screen', 'a', 'well', 'a', 'in', 'movie', 'According', 'to', 'ANI', 'Sushant', 'Singh', 'Rajput', 'committed', 'suicide', 'at', 'his', 'Bandra', 'residence', 'by', 'hanging', 'himself', 'on', 'Sunday', 'Additional', 'Commissioner', 'of', 'Police', 'Dr', 'Manoj', 'Sharma', 'confirmed', 'Sushant', 'Singh', 'Rajput', 'ha', 'committed', 'suicide', 'Mumbai', 'Police', 'is', 'investigating', 'Police', 'ha', 'not', 'found', 'any', 'note', 'yet', 'said', 'DCP', 'Pranay', 'Ashok', 'spokesperson', 'Mumbai', 'Police', 'More', 'detail', 'are', 'awaited']\n"
     ]
    }
   ],
   "source": [
    "# Lemmatization, lemmatize()\n",
    "lemma_words = []\n",
    "for word, tag in blob.tags:\n",
    "    lemma_words.append(word.lemmatize())\n",
    "    \n",
    "print(lemma_words)"
   ]
  },
  {
   "cell_type": "markdown",
   "metadata": {},
   "source": [
    "# N-grams\n",
    "\n",
    "The TextBlob.ngrams() method used to return the n grams in TextBlob."
   ]
  },
  {
   "cell_type": "code",
   "execution_count": 48,
   "metadata": {},
   "outputs": [
    {
     "data": {
      "text/plain": [
       "[WordList(['Bollywood', 'lost', 'yet', 'another', 'actor', 'as', 'Sushant', 'Singh']),\n",
       " WordList(['lost', 'yet', 'another', 'actor', 'as', 'Sushant', 'Singh', 'Rajput']),\n",
       " WordList(['yet', 'another', 'actor', 'as', 'Sushant', 'Singh', 'Rajput', 'committed']),\n",
       " WordList(['another', 'actor', 'as', 'Sushant', 'Singh', 'Rajput', 'committed', 'suicide']),\n",
       " WordList(['actor', 'as', 'Sushant', 'Singh', 'Rajput', 'committed', 'suicide', 'at']),\n",
       " WordList(['as', 'Sushant', 'Singh', 'Rajput', 'committed', 'suicide', 'at', 'his']),\n",
       " WordList(['Sushant', 'Singh', 'Rajput', 'committed', 'suicide', 'at', 'his', 'residence']),\n",
       " WordList(['Singh', 'Rajput', 'committed', 'suicide', 'at', 'his', 'residence', 'in']),\n",
       " WordList(['Rajput', 'committed', 'suicide', 'at', 'his', 'residence', 'in', 'Mumbai']),\n",
       " WordList(['committed', 'suicide', 'at', 'his', 'residence', 'in', 'Mumbai', 'While']),\n",
       " WordList(['suicide', 'at', 'his', 'residence', 'in', 'Mumbai', 'While', 'the']),\n",
       " WordList(['at', 'his', 'residence', 'in', 'Mumbai', 'While', 'the', 'industry']),\n",
       " WordList(['his', 'residence', 'in', 'Mumbai', 'While', 'the', 'industry', 'is']),\n",
       " WordList(['residence', 'in', 'Mumbai', 'While', 'the', 'industry', 'is', 'still']),\n",
       " WordList(['in', 'Mumbai', 'While', 'the', 'industry', 'is', 'still', 'reeling']),\n",
       " WordList(['Mumbai', 'While', 'the', 'industry', 'is', 'still', 'reeling', 'with']),\n",
       " WordList(['While', 'the', 'industry', 'is', 'still', 'reeling', 'with', 'the']),\n",
       " WordList(['the', 'industry', 'is', 'still', 'reeling', 'with', 'the', 'passing']),\n",
       " WordList(['industry', 'is', 'still', 'reeling', 'with', 'the', 'passing', 'away']),\n",
       " WordList(['is', 'still', 'reeling', 'with', 'the', 'passing', 'away', 'of']),\n",
       " WordList(['still', 'reeling', 'with', 'the', 'passing', 'away', 'of', 'Irrfan']),\n",
       " WordList(['reeling', 'with', 'the', 'passing', 'away', 'of', 'Irrfan', 'Khan']),\n",
       " WordList(['with', 'the', 'passing', 'away', 'of', 'Irrfan', 'Khan', 'and']),\n",
       " WordList(['the', 'passing', 'away', 'of', 'Irrfan', 'Khan', 'and', 'Rishi']),\n",
       " WordList(['passing', 'away', 'of', 'Irrfan', 'Khan', 'and', 'Rishi', 'Kapoor']),\n",
       " WordList(['away', 'of', 'Irrfan', 'Khan', 'and', 'Rishi', 'Kapoor', 'Bollywood']),\n",
       " WordList(['of', 'Irrfan', 'Khan', 'and', 'Rishi', 'Kapoor', 'Bollywood', 'has']),\n",
       " WordList(['Irrfan', 'Khan', 'and', 'Rishi', 'Kapoor', 'Bollywood', 'has', 'to']),\n",
       " WordList(['Khan', 'and', 'Rishi', 'Kapoor', 'Bollywood', 'has', 'to', 'now']),\n",
       " WordList(['and', 'Rishi', 'Kapoor', 'Bollywood', 'has', 'to', 'now', 'deal']),\n",
       " WordList(['Rishi', 'Kapoor', 'Bollywood', 'has', 'to', 'now', 'deal', 'with']),\n",
       " WordList(['Kapoor', 'Bollywood', 'has', 'to', 'now', 'deal', 'with', 'yet']),\n",
       " WordList(['Bollywood', 'has', 'to', 'now', 'deal', 'with', 'yet', 'another']),\n",
       " WordList(['has', 'to', 'now', 'deal', 'with', 'yet', 'another', 'loss']),\n",
       " WordList(['to', 'now', 'deal', 'with', 'yet', 'another', 'loss', 'Sushant']),\n",
       " WordList(['now', 'deal', 'with', 'yet', 'another', 'loss', 'Sushant', 'was']),\n",
       " WordList(['deal', 'with', 'yet', 'another', 'loss', 'Sushant', 'was', '34']),\n",
       " WordList(['with', 'yet', 'another', 'loss', 'Sushant', 'was', '34', 'years']),\n",
       " WordList(['yet', 'another', 'loss', 'Sushant', 'was', '34', 'years', 'old']),\n",
       " WordList(['another', 'loss', 'Sushant', 'was', '34', 'years', 'old', 'and']),\n",
       " WordList(['loss', 'Sushant', 'was', '34', 'years', 'old', 'and', 'was']),\n",
       " WordList(['Sushant', 'was', '34', 'years', 'old', 'and', 'was', 'much']),\n",
       " WordList(['was', '34', 'years', 'old', 'and', 'was', 'much', 'loved']),\n",
       " WordList(['34', 'years', 'old', 'and', 'was', 'much', 'loved', 'for']),\n",
       " WordList(['years', 'old', 'and', 'was', 'much', 'loved', 'for', 'his']),\n",
       " WordList(['old', 'and', 'was', 'much', 'loved', 'for', 'his', 'performances']),\n",
       " WordList(['and', 'was', 'much', 'loved', 'for', 'his', 'performances', 'on']),\n",
       " WordList(['was', 'much', 'loved', 'for', 'his', 'performances', 'on', 'the']),\n",
       " WordList(['much', 'loved', 'for', 'his', 'performances', 'on', 'the', 'small']),\n",
       " WordList(['loved', 'for', 'his', 'performances', 'on', 'the', 'small', 'screen']),\n",
       " WordList(['for', 'his', 'performances', 'on', 'the', 'small', 'screen', 'as']),\n",
       " WordList(['his', 'performances', 'on', 'the', 'small', 'screen', 'as', 'well']),\n",
       " WordList(['performances', 'on', 'the', 'small', 'screen', 'as', 'well', 'as']),\n",
       " WordList(['on', 'the', 'small', 'screen', 'as', 'well', 'as', 'in']),\n",
       " WordList(['the', 'small', 'screen', 'as', 'well', 'as', 'in', 'movies']),\n",
       " WordList(['small', 'screen', 'as', 'well', 'as', 'in', 'movies', 'According']),\n",
       " WordList(['screen', 'as', 'well', 'as', 'in', 'movies', 'According', 'to']),\n",
       " WordList(['as', 'well', 'as', 'in', 'movies', 'According', 'to', 'ANI']),\n",
       " WordList(['well', 'as', 'in', 'movies', 'According', 'to', 'ANI', 'Sushant']),\n",
       " WordList(['as', 'in', 'movies', 'According', 'to', 'ANI', 'Sushant', 'Singh']),\n",
       " WordList(['in', 'movies', 'According', 'to', 'ANI', 'Sushant', 'Singh', 'Rajput']),\n",
       " WordList(['movies', 'According', 'to', 'ANI', 'Sushant', 'Singh', 'Rajput', 'committed']),\n",
       " WordList(['According', 'to', 'ANI', 'Sushant', 'Singh', 'Rajput', 'committed', 'suicide']),\n",
       " WordList(['to', 'ANI', 'Sushant', 'Singh', 'Rajput', 'committed', 'suicide', 'at']),\n",
       " WordList(['ANI', 'Sushant', 'Singh', 'Rajput', 'committed', 'suicide', 'at', 'his']),\n",
       " WordList(['Sushant', 'Singh', 'Rajput', 'committed', 'suicide', 'at', 'his', 'Bandra']),\n",
       " WordList(['Singh', 'Rajput', 'committed', 'suicide', 'at', 'his', 'Bandra', 'residence']),\n",
       " WordList(['Rajput', 'committed', 'suicide', 'at', 'his', 'Bandra', 'residence', 'by']),\n",
       " WordList(['committed', 'suicide', 'at', 'his', 'Bandra', 'residence', 'by', 'hanging']),\n",
       " WordList(['suicide', 'at', 'his', 'Bandra', 'residence', 'by', 'hanging', 'himself']),\n",
       " WordList(['at', 'his', 'Bandra', 'residence', 'by', 'hanging', 'himself', 'on']),\n",
       " WordList(['his', 'Bandra', 'residence', 'by', 'hanging', 'himself', 'on', 'Sunday']),\n",
       " WordList(['Bandra', 'residence', 'by', 'hanging', 'himself', 'on', 'Sunday', 'Additional']),\n",
       " WordList(['residence', 'by', 'hanging', 'himself', 'on', 'Sunday', 'Additional', 'Commissioner']),\n",
       " WordList(['by', 'hanging', 'himself', 'on', 'Sunday', 'Additional', 'Commissioner', 'of']),\n",
       " WordList(['hanging', 'himself', 'on', 'Sunday', 'Additional', 'Commissioner', 'of', 'Police']),\n",
       " WordList(['himself', 'on', 'Sunday', 'Additional', 'Commissioner', 'of', 'Police', 'Dr']),\n",
       " WordList(['on', 'Sunday', 'Additional', 'Commissioner', 'of', 'Police', 'Dr', 'Manoj']),\n",
       " WordList(['Sunday', 'Additional', 'Commissioner', 'of', 'Police', 'Dr', 'Manoj', 'Sharma']),\n",
       " WordList(['Additional', 'Commissioner', 'of', 'Police', 'Dr', 'Manoj', 'Sharma', 'confirmed']),\n",
       " WordList(['Commissioner', 'of', 'Police', 'Dr', 'Manoj', 'Sharma', 'confirmed', 'Sushant']),\n",
       " WordList(['of', 'Police', 'Dr', 'Manoj', 'Sharma', 'confirmed', 'Sushant', 'Singh']),\n",
       " WordList(['Police', 'Dr', 'Manoj', 'Sharma', 'confirmed', 'Sushant', 'Singh', 'Rajput']),\n",
       " WordList(['Dr', 'Manoj', 'Sharma', 'confirmed', 'Sushant', 'Singh', 'Rajput', 'has']),\n",
       " WordList(['Manoj', 'Sharma', 'confirmed', 'Sushant', 'Singh', 'Rajput', 'has', 'committed']),\n",
       " WordList(['Sharma', 'confirmed', 'Sushant', 'Singh', 'Rajput', 'has', 'committed', 'suicide']),\n",
       " WordList(['confirmed', 'Sushant', 'Singh', 'Rajput', 'has', 'committed', 'suicide', 'Mumbai']),\n",
       " WordList(['Sushant', 'Singh', 'Rajput', 'has', 'committed', 'suicide', 'Mumbai', 'Police']),\n",
       " WordList(['Singh', 'Rajput', 'has', 'committed', 'suicide', 'Mumbai', 'Police', 'is']),\n",
       " WordList(['Rajput', 'has', 'committed', 'suicide', 'Mumbai', 'Police', 'is', 'investigating']),\n",
       " WordList(['has', 'committed', 'suicide', 'Mumbai', 'Police', 'is', 'investigating', 'Police']),\n",
       " WordList(['committed', 'suicide', 'Mumbai', 'Police', 'is', 'investigating', 'Police', 'has']),\n",
       " WordList(['suicide', 'Mumbai', 'Police', 'is', 'investigating', 'Police', 'has', 'not']),\n",
       " WordList(['Mumbai', 'Police', 'is', 'investigating', 'Police', 'has', 'not', 'found']),\n",
       " WordList(['Police', 'is', 'investigating', 'Police', 'has', 'not', 'found', 'any']),\n",
       " WordList(['is', 'investigating', 'Police', 'has', 'not', 'found', 'any', 'note']),\n",
       " WordList(['investigating', 'Police', 'has', 'not', 'found', 'any', 'note', 'yet']),\n",
       " WordList(['Police', 'has', 'not', 'found', 'any', 'note', 'yet', 'said']),\n",
       " WordList(['has', 'not', 'found', 'any', 'note', 'yet', 'said', 'DCP']),\n",
       " WordList(['not', 'found', 'any', 'note', 'yet', 'said', 'DCP', 'Pranay']),\n",
       " WordList(['found', 'any', 'note', 'yet', 'said', 'DCP', 'Pranay', 'Ashok']),\n",
       " WordList(['any', 'note', 'yet', 'said', 'DCP', 'Pranay', 'Ashok', 'spokesperson']),\n",
       " WordList(['note', 'yet', 'said', 'DCP', 'Pranay', 'Ashok', 'spokesperson', 'Mumbai']),\n",
       " WordList(['yet', 'said', 'DCP', 'Pranay', 'Ashok', 'spokesperson', 'Mumbai', 'Police']),\n",
       " WordList(['said', 'DCP', 'Pranay', 'Ashok', 'spokesperson', 'Mumbai', 'Police', 'More']),\n",
       " WordList(['DCP', 'Pranay', 'Ashok', 'spokesperson', 'Mumbai', 'Police', 'More', 'details']),\n",
       " WordList(['Pranay', 'Ashok', 'spokesperson', 'Mumbai', 'Police', 'More', 'details', 'are']),\n",
       " WordList(['Ashok', 'spokesperson', 'Mumbai', 'Police', 'More', 'details', 'are', 'awaited'])]"
      ]
     },
     "execution_count": 48,
     "metadata": {},
     "output_type": "execute_result"
    }
   ],
   "source": [
    "blob.ngrams(n=8)"
   ]
  },
  {
   "cell_type": "code",
   "execution_count": 49,
   "metadata": {},
   "outputs": [
    {
     "name": "stdout",
     "output_type": "stream",
     "text": [
      "96 for n=20\n",
      "108 for n=8\n"
     ]
    }
   ],
   "source": [
    "print(len(blob.ngrams(n=20)), \"for n=20\")\n",
    "print(len(blob.ngrams(n=8)), \"for n=8\")\n",
    "\n",
    "#size decreases as n value increases"
   ]
  },
  {
   "cell_type": "markdown",
   "metadata": {},
   "source": [
    "# Spelling Correction\n",
    "\n",
    "correct() is the method used for Spelling Correction and spellcheck() is a method from Word.spellcheck() for spelling check"
   ]
  },
  {
   "cell_type": "code",
   "execution_count": 50,
   "metadata": {},
   "outputs": [
    {
     "data": {
      "text/plain": [
       "TextBlob(\"you are a good question but your question heart me\")"
      ]
     },
     "execution_count": 50,
     "metadata": {},
     "output_type": "execute_result"
    }
   ],
   "source": [
    "# Spelling correction\n",
    "\n",
    "text = TextBlob('you are a goiod quistion but youre question heart me')\n",
    "text.correct()"
   ]
  },
  {
   "cell_type": "code",
   "execution_count": 51,
   "metadata": {},
   "outputs": [
    {
     "data": {
      "text/plain": [
       "[('fallibility', 1.0)]"
      ]
     },
     "execution_count": 51,
     "metadata": {},
     "output_type": "execute_result"
    }
   ],
   "source": [
    "#Spelling Checking it is almost 70% accurate\n",
    "\n",
    "from textblob import Word\n",
    "\n",
    "w = Word('falibility')\n",
    "w.spellcheck()"
   ]
  },
  {
   "cell_type": "markdown",
   "metadata": {},
   "source": [
    "# Conclussion\n",
    "\n",
    "NLP with TextBlob is found to be most easy and responsive during implementation I Tried with pytorch nlp\n",
    "but it found to be the more complicated while implementation.\n",
    "TextBlob is easier to understand than also fuctions like POStagging, lemmatization is quite easier.\n",
    "There some functions which TextBlob does not allow as used in nltk thoough it os good for the NLP preprocessing.0\n",
    "\n",
    "This file can be found at https://github.com/buyrenagesh/NLP_LAB_19MAI0024/blob/master/NLP_DA1_TextBlob.ipynb\n",
    "and the handson tried on pytorch is here https://github.com/buyrenagesh/NLP_LAB_19MAI0024/blob/master/NLP_Handson_DA1.ipynb"
   ]
  },
  {
   "cell_type": "markdown",
   "metadata": {},
   "source": [
    "# References"
   ]
  },
  {
   "cell_type": "markdown",
   "metadata": {},
   "source": [
    "1. https://textblob.readthedocs.io/en/dev/quickstart.html#create-a-textblob\n",
    "2. http://www.clips.ua.ac.be/pages/pattern-en#spelling (Spelling Checker)"
   ]
  },
  {
   "cell_type": "code",
   "execution_count": null,
   "metadata": {},
   "outputs": [],
   "source": []
  }
 ],
 "metadata": {
  "kernelspec": {
   "display_name": "Python 3",
   "language": "python",
   "name": "python3"
  },
  "language_info": {
   "codemirror_mode": {
    "name": "ipython",
    "version": 3
   },
   "file_extension": ".py",
   "mimetype": "text/x-python",
   "name": "python",
   "nbconvert_exporter": "python",
   "pygments_lexer": "ipython3",
   "version": "3.7.3"
  }
 },
 "nbformat": 4,
 "nbformat_minor": 4
}
