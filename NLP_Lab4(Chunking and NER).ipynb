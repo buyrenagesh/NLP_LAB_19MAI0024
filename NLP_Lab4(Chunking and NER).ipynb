{
 "cells": [
  {
   "cell_type": "markdown",
   "metadata": {},
   "source": [
    "# Chunking"
   ]
  },
  {
   "cell_type": "code",
   "execution_count": null,
   "metadata": {},
   "outputs": [],
   "source": []
  },
  {
   "cell_type": "code",
   "execution_count": 1,
   "metadata": {},
   "outputs": [],
   "source": [
    "import nltk"
   ]
  },
  {
   "cell_type": "code",
   "execution_count": 2,
   "metadata": {},
   "outputs": [],
   "source": [
    "sentence = [(\"the\", \"DT\"), (\"little\", \"JJ\"), (\"yellow\", \"JJ\"),(\"dog\", \"NN\"), (\"barked\", \"VBD\"), (\"at\", \"IN\"),  (\"the\", \"DT\"), (\"cat\", \"NN\")]\n",
    "\n",
    "#Defining the Regular expressions\n",
    "\n",
    "grammar = \"NP: {<DT>?<JJ>*<NN>}\"\n",
    "grammar1 = \"VP: {<PRP>+<VB>+<JJ>?}\""
   ]
  },
  {
   "cell_type": "code",
   "execution_count": 3,
   "metadata": {},
   "outputs": [],
   "source": [
    "#Conversion to Reg exp\n",
    "cp = nltk.RegexpParser(grammar)\n",
    "cp1 = nltk.RegexpParser(grammar1)"
   ]
  },
  {
   "cell_type": "code",
   "execution_count": 4,
   "metadata": {},
   "outputs": [],
   "source": [
    "result = cp.parse(sentence)"
   ]
  },
  {
   "cell_type": "code",
   "execution_count": 5,
   "metadata": {},
   "outputs": [
    {
     "name": "stdout",
     "output_type": "stream",
     "text": [
      "(S\n",
      "  (NP the/DT little/JJ yellow/JJ dog/NN)\n",
      "  barked/VBD\n",
      "  at/IN\n",
      "  (NP the/DT cat/NN))\n"
     ]
    }
   ],
   "source": [
    "print(result)"
   ]
  },
  {
   "cell_type": "code",
   "execution_count": 6,
   "metadata": {},
   "outputs": [],
   "source": [
    "#result.draw()"
   ]
  },
  {
   "cell_type": "code",
   "execution_count": 7,
   "metadata": {},
   "outputs": [],
   "source": [
    "doc = '''Initially I was doubtful about a non-CS student’s approach and grasp of the subject, but he adapted to it as naturally as a fish to water.'''"
   ]
  },
  {
   "cell_type": "code",
   "execution_count": 8,
   "metadata": {},
   "outputs": [],
   "source": [
    "tokens = nltk.word_tokenize(doc)"
   ]
  },
  {
   "cell_type": "code",
   "execution_count": 9,
   "metadata": {},
   "outputs": [],
   "source": [
    "#POS Tagging\n",
    "pos_tags = nltk.pos_tag(tokens)"
   ]
  },
  {
   "cell_type": "code",
   "execution_count": 10,
   "metadata": {},
   "outputs": [
    {
     "name": "stdout",
     "output_type": "stream",
     "text": [
      "[('Initially', 'RB'), ('I', 'PRP'), ('was', 'VBD'), ('doubtful', 'JJ'), ('about', 'IN'), ('a', 'DT'), ('non-CS', 'JJ'), ('student', 'NN'), ('’', 'NNP'), ('s', 'NN'), ('approach', 'NN'), ('and', 'CC'), ('grasp', 'NN'), ('of', 'IN'), ('the', 'DT'), ('subject', 'NN'), (',', ','), ('but', 'CC'), ('he', 'PRP'), ('adapted', 'VBD'), ('to', 'TO'), ('it', 'PRP'), ('as', 'RB'), ('naturally', 'RB'), ('as', 'IN'), ('a', 'DT'), ('fish', 'NN'), ('to', 'TO'), ('water', 'NN'), ('.', '.')]\n"
     ]
    }
   ],
   "source": [
    "print(pos_tags)"
   ]
  },
  {
   "cell_type": "code",
   "execution_count": 11,
   "metadata": {},
   "outputs": [],
   "source": [
    "result_lor = cp.parse(pos_tags)"
   ]
  },
  {
   "cell_type": "code",
   "execution_count": 12,
   "metadata": {},
   "outputs": [
    {
     "name": "stdout",
     "output_type": "stream",
     "text": [
      "(S\n",
      "  Initially/RB\n",
      "  I/PRP\n",
      "  was/VBD\n",
      "  doubtful/JJ\n",
      "  about/IN\n",
      "  (NP a/DT non-CS/JJ student/NN)\n",
      "  ’/NNP\n",
      "  (NP s/NN)\n",
      "  (NP approach/NN)\n",
      "  and/CC\n",
      "  (NP grasp/NN)\n",
      "  of/IN\n",
      "  (NP the/DT subject/NN)\n",
      "  ,/,\n",
      "  but/CC\n",
      "  he/PRP\n",
      "  adapted/VBD\n",
      "  to/TO\n",
      "  it/PRP\n",
      "  as/RB\n",
      "  naturally/RB\n",
      "  as/IN\n",
      "  (NP a/DT fish/NN)\n",
      "  to/TO\n",
      "  (NP water/NN)\n",
      "  ./.)\n"
     ]
    }
   ],
   "source": [
    "print(result_lor)"
   ]
  },
  {
   "cell_type": "code",
   "execution_count": 13,
   "metadata": {},
   "outputs": [],
   "source": [
    "#result_lor.draw()"
   ]
  },
  {
   "cell_type": "code",
   "execution_count": 14,
   "metadata": {},
   "outputs": [],
   "source": [
    "result_lor_1 = cp1.parse(pos_tags)"
   ]
  },
  {
   "cell_type": "code",
   "execution_count": 15,
   "metadata": {},
   "outputs": [
    {
     "name": "stdout",
     "output_type": "stream",
     "text": [
      "(S\n",
      "  Initially/RB\n",
      "  I/PRP\n",
      "  was/VBD\n",
      "  doubtful/JJ\n",
      "  about/IN\n",
      "  a/DT\n",
      "  non-CS/JJ\n",
      "  student/NN\n",
      "  ’/NNP\n",
      "  s/NN\n",
      "  approach/NN\n",
      "  and/CC\n",
      "  grasp/NN\n",
      "  of/IN\n",
      "  the/DT\n",
      "  subject/NN\n",
      "  ,/,\n",
      "  but/CC\n",
      "  he/PRP\n",
      "  adapted/VBD\n",
      "  to/TO\n",
      "  it/PRP\n",
      "  as/RB\n",
      "  naturally/RB\n",
      "  as/IN\n",
      "  a/DT\n",
      "  fish/NN\n",
      "  to/TO\n",
      "  water/NN\n",
      "  ./.)\n"
     ]
    }
   ],
   "source": [
    "print(result_lor_1)"
   ]
  },
  {
   "cell_type": "code",
   "execution_count": 16,
   "metadata": {},
   "outputs": [],
   "source": [
    "chunks = nltk.ne_chunk(pos_tags)"
   ]
  },
  {
   "cell_type": "code",
   "execution_count": 17,
   "metadata": {},
   "outputs": [
    {
     "name": "stdout",
     "output_type": "stream",
     "text": [
      "(S\n",
      "  Initially/RB\n",
      "  I/PRP\n",
      "  was/VBD\n",
      "  doubtful/JJ\n",
      "  about/IN\n",
      "  a/DT\n",
      "  non-CS/JJ\n",
      "  student/NN\n",
      "  ’/NNP\n",
      "  s/NN\n",
      "  approach/NN\n",
      "  and/CC\n",
      "  grasp/NN\n",
      "  of/IN\n",
      "  the/DT\n",
      "  subject/NN\n",
      "  ,/,\n",
      "  but/CC\n",
      "  he/PRP\n",
      "  adapted/VBD\n",
      "  to/TO\n",
      "  it/PRP\n",
      "  as/RB\n",
      "  naturally/RB\n",
      "  as/IN\n",
      "  a/DT\n",
      "  fish/NN\n",
      "  to/TO\n",
      "  water/NN\n",
      "  ./.)\n"
     ]
    }
   ],
   "source": [
    "print(chunks)"
   ]
  },
  {
   "cell_type": "code",
   "execution_count": 18,
   "metadata": {},
   "outputs": [],
   "source": [
    "#Drawing the chunk mapping\n",
    "chunks.draw()"
   ]
  },
  {
   "cell_type": "code",
   "execution_count": null,
   "metadata": {},
   "outputs": [],
   "source": []
  },
  {
   "cell_type": "code",
   "execution_count": null,
   "metadata": {},
   "outputs": [],
   "source": []
  },
  {
   "cell_type": "markdown",
   "metadata": {},
   "source": [
    "# NER"
   ]
  },
  {
   "cell_type": "code",
   "execution_count": 19,
   "metadata": {},
   "outputs": [],
   "source": [
    "import spacy\n",
    "\n",
    "nlp = spacy.load('en_core_web_sm')"
   ]
  },
  {
   "cell_type": "code",
   "execution_count": 20,
   "metadata": {},
   "outputs": [
    {
     "name": "stdout",
     "output_type": "stream",
     "text": [
      "Google ORG\n",
      "Larry Page PERSON\n",
      "Sergey Brin PERSON\n",
      "the United States of America GPE\n"
     ]
    }
   ],
   "source": [
    "example = \"Google, a company founded by Larry Page and Sergey Brin in the United States of America \"\\\n",
    "+ \"has one of the world’s most advanced search engines.\"\n",
    "\n",
    "doc= nlp(example)\n",
    "\n",
    "for ent in doc.ents:\n",
    "    print(ent.text, ent.label_)"
   ]
  },
  {
   "cell_type": "code",
   "execution_count": 21,
   "metadata": {},
   "outputs": [
    {
     "name": "stdout",
     "output_type": "stream",
     "text": [
      "MrXX FAC\n",
      "Computer Science WORK_OF_ART\n",
      "his second year DATE\n",
      "(2nd year DATE\n",
      "Database Management Systems ORG\n",
      "first ORDINAL\n",
      "Database Management Systems ORG\n",
      "CSE-2004 ORG\n",
      "the first week DATE\n",
      "Database System PRODUCT\n",
      "SQL ORG\n",
      "Intellect Design Arena WORK_OF_ART\n",
      "Logical Data Model ORG\n",
      "J.P. Morgan Chase PERSON\n",
      "two months DATE\n",
      "Computer Science ORG\n"
     ]
    }
   ],
   "source": [
    "example = \"\"\"I am pleased to recommend MrXX for an MS in Computer Science at your esteemed university. I have known him since his second year. He was my student in the 3rd semester (2nd year), where I taught him the course of Database Management Systems. \n",
    "I first got to know X in the course of Database Management Systems, CSE-2004. In the first week of the course, I was surprised to know that X, an Electronics and Instrumentation student, had taken up a computer science core course. Initially I was doubtful about a non-CS student’s approach and grasp of the subject, but he adapted to it as naturally as a fish to water. By the time the course came to an end, he had proved his mettle. \n",
    "I observed that X had a keen interest and was fully involved in the course when I saw his performances during the Lab sessions, where he would be able to grasp new concepts such as query formation and joins. He has been highly active in the technical scene of our college too with him organizing many events.\n",
    "As a part of the course, students are required to develop a project, with a fully functional Database System consisting of the concepts learnt throughout the semester. Despite X not being from a computer science background, his project did not languish. He went above and beyond to make a professional database design, which included an ‘Auto-Increment’ feature using a PL/SQL sequence written by him, bulk insertion into the table and other features.\n",
    "I was pleased to know that he applied the concepts in his internship extensively to build a professional tool for Intellect Design Arena. He designed this tool to make the process of configuring a Logical Data Model easier and much faster. It consisted of a User Interface (UI) that can replicate back-end tasks such as inserting data in a database at the click of a button. His task was cut out for him as the tool was being built for J.P. Morgan Chase as a client and hence there was no room for error. I am proud to say that the tool, which he built over a course of two months, was pushed to production at the end of his internship.\n",
    "X makes a strong candidate for your Master's program majoring in Computer Science. His proposed candidature has my endorsement without any reservations whatsoever.\n",
    "\"\"\"\n",
    "\n",
    "doc= nlp(example)\n",
    "\n",
    "for ent in doc.ents:\n",
    "    print(ent.text, ent.label_)"
   ]
  },
  {
   "cell_type": "code",
   "execution_count": 22,
   "metadata": {},
   "outputs": [
    {
     "data": {
      "text/html": [
       "<span class=\"tex2jax_ignore\"><div class=\"entities\" style=\"line-height: 2.5; direction: ltr\">I am pleased to recommend \n",
       "<mark class=\"entity\" style=\"background: #ddd; padding: 0.45em 0.6em; margin: 0 0.25em; line-height: 1; border-radius: 0.35em;\">\n",
       "    MrXX\n",
       "    <span style=\"font-size: 0.8em; font-weight: bold; line-height: 1; border-radius: 0.35em; text-transform: uppercase; vertical-align: middle; margin-left: 0.5rem\">FAC</span>\n",
       "</mark>\n",
       " for an MS in \n",
       "<mark class=\"entity\" style=\"background: #f0d0ff; padding: 0.45em 0.6em; margin: 0 0.25em; line-height: 1; border-radius: 0.35em;\">\n",
       "    Computer Science\n",
       "    <span style=\"font-size: 0.8em; font-weight: bold; line-height: 1; border-radius: 0.35em; text-transform: uppercase; vertical-align: middle; margin-left: 0.5rem\">WORK_OF_ART</span>\n",
       "</mark>\n",
       " at your esteemed university. I have known him since \n",
       "<mark class=\"entity\" style=\"background: #bfe1d9; padding: 0.45em 0.6em; margin: 0 0.25em; line-height: 1; border-radius: 0.35em;\">\n",
       "    his second year\n",
       "    <span style=\"font-size: 0.8em; font-weight: bold; line-height: 1; border-radius: 0.35em; text-transform: uppercase; vertical-align: middle; margin-left: 0.5rem\">DATE</span>\n",
       "</mark>\n",
       ". He was my student in the 3rd semester \n",
       "<mark class=\"entity\" style=\"background: #bfe1d9; padding: 0.45em 0.6em; margin: 0 0.25em; line-height: 1; border-radius: 0.35em;\">\n",
       "    (2nd year\n",
       "    <span style=\"font-size: 0.8em; font-weight: bold; line-height: 1; border-radius: 0.35em; text-transform: uppercase; vertical-align: middle; margin-left: 0.5rem\">DATE</span>\n",
       "</mark>\n",
       "), where I taught him the course of \n",
       "<mark class=\"entity\" style=\"background: #7aecec; padding: 0.45em 0.6em; margin: 0 0.25em; line-height: 1; border-radius: 0.35em;\">\n",
       "    Database Management Systems\n",
       "    <span style=\"font-size: 0.8em; font-weight: bold; line-height: 1; border-radius: 0.35em; text-transform: uppercase; vertical-align: middle; margin-left: 0.5rem\">ORG</span>\n",
       "</mark>\n",
       ". </br>I \n",
       "<mark class=\"entity\" style=\"background: #e4e7d2; padding: 0.45em 0.6em; margin: 0 0.25em; line-height: 1; border-radius: 0.35em;\">\n",
       "    first\n",
       "    <span style=\"font-size: 0.8em; font-weight: bold; line-height: 1; border-radius: 0.35em; text-transform: uppercase; vertical-align: middle; margin-left: 0.5rem\">ORDINAL</span>\n",
       "</mark>\n",
       " got to know X in the course of \n",
       "<mark class=\"entity\" style=\"background: #7aecec; padding: 0.45em 0.6em; margin: 0 0.25em; line-height: 1; border-radius: 0.35em;\">\n",
       "    Database Management Systems\n",
       "    <span style=\"font-size: 0.8em; font-weight: bold; line-height: 1; border-radius: 0.35em; text-transform: uppercase; vertical-align: middle; margin-left: 0.5rem\">ORG</span>\n",
       "</mark>\n",
       ", \n",
       "<mark class=\"entity\" style=\"background: #7aecec; padding: 0.45em 0.6em; margin: 0 0.25em; line-height: 1; border-radius: 0.35em;\">\n",
       "    CSE-2004\n",
       "    <span style=\"font-size: 0.8em; font-weight: bold; line-height: 1; border-radius: 0.35em; text-transform: uppercase; vertical-align: middle; margin-left: 0.5rem\">ORG</span>\n",
       "</mark>\n",
       ". In \n",
       "<mark class=\"entity\" style=\"background: #bfe1d9; padding: 0.45em 0.6em; margin: 0 0.25em; line-height: 1; border-radius: 0.35em;\">\n",
       "    the first week\n",
       "    <span style=\"font-size: 0.8em; font-weight: bold; line-height: 1; border-radius: 0.35em; text-transform: uppercase; vertical-align: middle; margin-left: 0.5rem\">DATE</span>\n",
       "</mark>\n",
       " of the course, I was surprised to know that X, an Electronics and Instrumentation student, had taken up a computer science core course. Initially I was doubtful about a non-CS student’s approach and grasp of the subject, but he adapted to it as naturally as a fish to water. By the time the course came to an end, he had proved his mettle. </br>I observed that X had a keen interest and was fully involved in the course when I saw his performances during the Lab sessions, where he would be able to grasp new concepts such as query formation and joins. He has been highly active in the technical scene of our college too with him organizing many events.</br>As a part of the course, students are required to develop a project, with a fully functional \n",
       "<mark class=\"entity\" style=\"background: #bfeeb7; padding: 0.45em 0.6em; margin: 0 0.25em; line-height: 1; border-radius: 0.35em;\">\n",
       "    Database System\n",
       "    <span style=\"font-size: 0.8em; font-weight: bold; line-height: 1; border-radius: 0.35em; text-transform: uppercase; vertical-align: middle; margin-left: 0.5rem\">PRODUCT</span>\n",
       "</mark>\n",
       " consisting of the concepts learnt throughout the semester. Despite X not being from a computer science background, his project did not languish. He went above and beyond to make a professional database design, which included an ‘Auto-Increment’ feature using a PL/\n",
       "<mark class=\"entity\" style=\"background: #7aecec; padding: 0.45em 0.6em; margin: 0 0.25em; line-height: 1; border-radius: 0.35em;\">\n",
       "    SQL\n",
       "    <span style=\"font-size: 0.8em; font-weight: bold; line-height: 1; border-radius: 0.35em; text-transform: uppercase; vertical-align: middle; margin-left: 0.5rem\">ORG</span>\n",
       "</mark>\n",
       " sequence written by him, bulk insertion into the table and other features.</br>I was pleased to know that he applied the concepts in his internship extensively to build a professional tool for \n",
       "<mark class=\"entity\" style=\"background: #f0d0ff; padding: 0.45em 0.6em; margin: 0 0.25em; line-height: 1; border-radius: 0.35em;\">\n",
       "    Intellect Design Arena\n",
       "    <span style=\"font-size: 0.8em; font-weight: bold; line-height: 1; border-radius: 0.35em; text-transform: uppercase; vertical-align: middle; margin-left: 0.5rem\">WORK_OF_ART</span>\n",
       "</mark>\n",
       ". He designed this tool to make the process of configuring a \n",
       "<mark class=\"entity\" style=\"background: #7aecec; padding: 0.45em 0.6em; margin: 0 0.25em; line-height: 1; border-radius: 0.35em;\">\n",
       "    Logical Data Model\n",
       "    <span style=\"font-size: 0.8em; font-weight: bold; line-height: 1; border-radius: 0.35em; text-transform: uppercase; vertical-align: middle; margin-left: 0.5rem\">ORG</span>\n",
       "</mark>\n",
       " easier and much faster. It consisted of a User Interface (UI) that can replicate back-end tasks such as inserting data in a database at the click of a button. His task was cut out for him as the tool was being built for \n",
       "<mark class=\"entity\" style=\"background: #aa9cfc; padding: 0.45em 0.6em; margin: 0 0.25em; line-height: 1; border-radius: 0.35em;\">\n",
       "    J.P. Morgan Chase\n",
       "    <span style=\"font-size: 0.8em; font-weight: bold; line-height: 1; border-radius: 0.35em; text-transform: uppercase; vertical-align: middle; margin-left: 0.5rem\">PERSON</span>\n",
       "</mark>\n",
       " as a client and hence there was no room for error. I am proud to say that the tool, which he built over a course of \n",
       "<mark class=\"entity\" style=\"background: #bfe1d9; padding: 0.45em 0.6em; margin: 0 0.25em; line-height: 1; border-radius: 0.35em;\">\n",
       "    two months\n",
       "    <span style=\"font-size: 0.8em; font-weight: bold; line-height: 1; border-radius: 0.35em; text-transform: uppercase; vertical-align: middle; margin-left: 0.5rem\">DATE</span>\n",
       "</mark>\n",
       ", was pushed to production at the end of his internship.</br>X makes a strong candidate for your Master's program majoring in \n",
       "<mark class=\"entity\" style=\"background: #7aecec; padding: 0.45em 0.6em; margin: 0 0.25em; line-height: 1; border-radius: 0.35em;\">\n",
       "    Computer Science\n",
       "    <span style=\"font-size: 0.8em; font-weight: bold; line-height: 1; border-radius: 0.35em; text-transform: uppercase; vertical-align: middle; margin-left: 0.5rem\">ORG</span>\n",
       "</mark>\n",
       ". His proposed candidature has my endorsement without any reservations whatsoever.\n",
       "</div></span>"
      ],
      "text/plain": [
       "<IPython.core.display.HTML object>"
      ]
     },
     "metadata": {},
     "output_type": "display_data"
    }
   ],
   "source": [
    "from spacy import displacy\n",
    "\n",
    "displacy.render(doc, style='ent')"
   ]
  },
  {
   "cell_type": "code",
   "execution_count": null,
   "metadata": {},
   "outputs": [],
   "source": []
  },
  {
   "cell_type": "code",
   "execution_count": null,
   "metadata": {},
   "outputs": [],
   "source": []
  }
 ],
 "metadata": {
  "kernelspec": {
   "display_name": "Python 3",
   "language": "python",
   "name": "python3"
  },
  "language_info": {
   "codemirror_mode": {
    "name": "ipython",
    "version": 3
   },
   "file_extension": ".py",
   "mimetype": "text/x-python",
   "name": "python",
   "nbconvert_exporter": "python",
   "pygments_lexer": "ipython3",
   "version": "3.7.3"
  }
 },
 "nbformat": 4,
 "nbformat_minor": 4
}
